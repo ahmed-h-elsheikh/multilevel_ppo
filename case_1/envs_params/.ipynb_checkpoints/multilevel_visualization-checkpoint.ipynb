{
 "cells": [
  {
   "cell_type": "code",
   "execution_count": 1,
   "id": "1457afcb",
   "metadata": {},
   "outputs": [],
   "source": [
    "# to access functions from root directory\n",
    "import sys\n",
    "sys.path.append('/data/ad181/RemoteDir/multilevel_ppo')"
   ]
  },
  {
   "cell_type": "code",
   "execution_count": 2,
   "id": "7e4a60ca",
   "metadata": {},
   "outputs": [],
   "source": [
    "%matplotlib notebook\n",
    "import os\n",
    "import pickle\n",
    "import numpy as np \n",
    "import matplotlib.pyplot as plt  \n",
    "from tqdm import trange\n",
    "from time import time\n",
    "\n",
    "from utils.env_evaluate_functions import eval_actions"
   ]
  },
  {
   "cell_type": "code",
   "execution_count": 3,
   "id": "d0df65ec",
   "metadata": {},
   "outputs": [],
   "source": [
    "seed=1\n",
    "img_dir = './env_images'\n",
    "with open('env_data_v1/env_train_dict.pkl', 'rb') as input:\n",
    "    env_train_dict = pickle.load(input)\n",
    "os.makedirs(img_dir, exist_ok=True)"
   ]
  },
  {
   "cell_type": "code",
   "execution_count": null,
   "id": "5e1cfa3b",
   "metadata": {},
   "outputs": [
    {
     "name": "stderr",
     "output_type": "stream",
     "text": [
      "  0%|          | 0/200 [00:00<?, ?it/s]/data/ad181/RemoteDir/multilevel_ppo/stable_baselines_mlppo/stable_baselines3/common/envs/multi_level_model/level_mapping_functions.py:51: NumbaExperimentalFeatureWarning: \u001b[1m\u001b[1mFirst-class function type feature is experimental\u001b[0m\u001b[0m\n",
      "  for j in range(len(p_1)-1):\n",
      " 34%|███▎      | 67/200 [01:55<03:43,  1.68s/it]"
     ]
    }
   ],
   "source": [
    "samples = 200\n",
    "levels = [2,3,4]\n",
    "titles = ['level 1', 'level 2', 'level 3']\n",
    "actions_ = np.ones((env_train_dict[1].ressim_params.terminal_step,env_train_dict[1].ressim_params.action_space.shape[0]))\n",
    "\n",
    "ts, rs = [], []\n",
    "for seed in trange(samples):\n",
    "    ts_seed, rs_seed = [], []\n",
    "    states_seed = []\n",
    "    for level in levels:\n",
    "        env_train_dict[level].seed(seed)\n",
    "        start_time = time()\n",
    "        states, actions, rewards = eval_actions(env_train_dict[level], actions_)\n",
    "        t = time() - start_time\n",
    "        ts_seed.append(t)\n",
    "        rs_seed.append(sum(rewards))\n",
    "        states_seed.append(states)\n",
    "    ts.append(ts_seed)\n",
    "    rs.append(rs_seed)"
   ]
  },
  {
   "cell_type": "code",
   "execution_count": null,
   "id": "07aa0fff",
   "metadata": {},
   "outputs": [],
   "source": [
    "fig, axs = plt.subplots(1,len(levels),figsize=(1.8*len(levels),3) )\n",
    "for i,ax in enumerate(axs):\n",
    "    ax.axis('off')\n",
    "    im = ax.imshow(states_seed[i][-1] , origin='lower', cmap='RdBu', vmin=0, vmax=1)\n",
    "    ax.set_title(titles[i])\n",
    "cbar_ax = fig.add_axes([0.92, 0.12, 0.02, 0.76])\n",
    "fig.colorbar(im, cax=cbar_ax, orientation=\"vertical\") \n",
    "fig.show()"
   ]
  },
  {
   "cell_type": "code",
   "execution_count": null,
   "id": "765f4954",
   "metadata": {},
   "outputs": [],
   "source": [
    "ts = np.array(ts)\n",
    "fig,axs = plt.subplots(1,1,figsize=(5,4))\n",
    "avg_t = ts.mean(axis=0)\n",
    "avg_t = avg_t/avg_t[-1]\n",
    "axs.bar(titles, avg_t, color='gray', width=0.8 )\n",
    "axs.grid('on')\n",
    "for i,t in enumerate(avg_t[:-1]):\n",
    "    axs.text(i,t+0.04,str(round(t,2)),\n",
    "            horizontalalignment='center',\n",
    "            verticalalignment='center')\n",
    "axs.set_ylabel('normalised cost')\n",
    "fig.show()"
   ]
  }
 ],
 "metadata": {
  "kernelspec": {
   "display_name": "Python 3 (ipykernel)",
   "language": "python",
   "name": "python3"
  },
  "language_info": {
   "codemirror_mode": {
    "name": "ipython",
    "version": 3
   },
   "file_extension": ".py",
   "mimetype": "text/x-python",
   "name": "python",
   "nbconvert_exporter": "python",
   "pygments_lexer": "ipython3",
   "version": "3.7.11"
  }
 },
 "nbformat": 4,
 "nbformat_minor": 5
}
